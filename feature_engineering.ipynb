{
 "cells": [
  {
   "cell_type": "markdown",
   "id": "47d528d3",
   "metadata": {},
   "source": [
    "### Setting up your computer\n",
    "Python and packages\n",
    "You need Python 3.7 or above and the following numerical computing libraries:\n",
    "\n",
    "category-encoders>=2.3.0\n",
    "feature-engine>=1.2.0\n",
    "numpy>=1.22.2\n",
    "pandas>=1.4.1\n",
    "scikit-learn>=1.0.2\n",
    "scipy>=1.8.0\n",
    "statsmodels>=0.13.2\n",
    "\n",
    "\n",
    "Install Feature-engine\n",
    "To install feature-engine run:\n",
    "\n",
    "pip install feature-engine\n",
    "\n",
    "\n",
    "\n",
    "Install category-encoders\n",
    "To install category-encoders run:\n",
    "\n",
    "pip install category-encoders\n",
    "\n",
    "\n",
    "\n",
    "That is all! You are now ready to get started."
   ]
  },
  {
   "cell_type": "code",
   "execution_count": 61,
   "id": "6c324db6",
   "metadata": {},
   "outputs": [],
   "source": [
    "import numpy as np"
   ]
  },
  {
   "cell_type": "code",
   "execution_count": 62,
   "id": "ccd0daa0",
   "metadata": {},
   "outputs": [
    {
     "data": {
      "text/html": [
       "<div>\n",
       "<style scoped>\n",
       "    .dataframe tbody tr th:only-of-type {\n",
       "        vertical-align: middle;\n",
       "    }\n",
       "\n",
       "    .dataframe tbody tr th {\n",
       "        vertical-align: top;\n",
       "    }\n",
       "\n",
       "    .dataframe thead th {\n",
       "        text-align: right;\n",
       "    }\n",
       "</style>\n",
       "<table border=\"1\" class=\"dataframe\">\n",
       "  <thead>\n",
       "    <tr style=\"text-align: right;\">\n",
       "      <th></th>\n",
       "      <th>pclass</th>\n",
       "      <th>survived</th>\n",
       "      <th>name</th>\n",
       "      <th>sex</th>\n",
       "      <th>age</th>\n",
       "      <th>sibsp</th>\n",
       "      <th>parch</th>\n",
       "      <th>ticket</th>\n",
       "      <th>fare</th>\n",
       "      <th>cabin</th>\n",
       "      <th>embarked</th>\n",
       "      <th>boat</th>\n",
       "      <th>body</th>\n",
       "      <th>home.dest</th>\n",
       "    </tr>\n",
       "  </thead>\n",
       "  <tbody>\n",
       "    <tr>\n",
       "      <th>0</th>\n",
       "      <td>1</td>\n",
       "      <td>1</td>\n",
       "      <td>Allen, Miss. Elisabeth Walton</td>\n",
       "      <td>female</td>\n",
       "      <td>29.0000</td>\n",
       "      <td>0</td>\n",
       "      <td>0</td>\n",
       "      <td>24160</td>\n",
       "      <td>211.3375</td>\n",
       "      <td>B5</td>\n",
       "      <td>S</td>\n",
       "      <td>2</td>\n",
       "      <td>NaN</td>\n",
       "      <td>St Louis, MO</td>\n",
       "    </tr>\n",
       "    <tr>\n",
       "      <th>1</th>\n",
       "      <td>1</td>\n",
       "      <td>1</td>\n",
       "      <td>Allison, Master. Hudson Trevor</td>\n",
       "      <td>male</td>\n",
       "      <td>0.9167</td>\n",
       "      <td>1</td>\n",
       "      <td>2</td>\n",
       "      <td>113781</td>\n",
       "      <td>151.5500</td>\n",
       "      <td>C22</td>\n",
       "      <td>S</td>\n",
       "      <td>11</td>\n",
       "      <td>NaN</td>\n",
       "      <td>Montreal, PQ / Chesterville, ON</td>\n",
       "    </tr>\n",
       "    <tr>\n",
       "      <th>2</th>\n",
       "      <td>1</td>\n",
       "      <td>0</td>\n",
       "      <td>Allison, Miss. Helen Loraine</td>\n",
       "      <td>female</td>\n",
       "      <td>2.0000</td>\n",
       "      <td>1</td>\n",
       "      <td>2</td>\n",
       "      <td>113781</td>\n",
       "      <td>151.5500</td>\n",
       "      <td>C22</td>\n",
       "      <td>S</td>\n",
       "      <td>NaN</td>\n",
       "      <td>NaN</td>\n",
       "      <td>Montreal, PQ / Chesterville, ON</td>\n",
       "    </tr>\n",
       "    <tr>\n",
       "      <th>3</th>\n",
       "      <td>1</td>\n",
       "      <td>0</td>\n",
       "      <td>Allison, Mr. Hudson Joshua Creighton</td>\n",
       "      <td>male</td>\n",
       "      <td>30.0000</td>\n",
       "      <td>1</td>\n",
       "      <td>2</td>\n",
       "      <td>113781</td>\n",
       "      <td>151.5500</td>\n",
       "      <td>C22</td>\n",
       "      <td>S</td>\n",
       "      <td>NaN</td>\n",
       "      <td>135.0</td>\n",
       "      <td>Montreal, PQ / Chesterville, ON</td>\n",
       "    </tr>\n",
       "    <tr>\n",
       "      <th>4</th>\n",
       "      <td>1</td>\n",
       "      <td>0</td>\n",
       "      <td>Allison, Mrs. Hudson J C (Bessie Waldo Daniels)</td>\n",
       "      <td>female</td>\n",
       "      <td>25.0000</td>\n",
       "      <td>1</td>\n",
       "      <td>2</td>\n",
       "      <td>113781</td>\n",
       "      <td>151.5500</td>\n",
       "      <td>C22</td>\n",
       "      <td>S</td>\n",
       "      <td>NaN</td>\n",
       "      <td>NaN</td>\n",
       "      <td>Montreal, PQ / Chesterville, ON</td>\n",
       "    </tr>\n",
       "  </tbody>\n",
       "</table>\n",
       "</div>"
      ],
      "text/plain": [
       "   pclass  survived                                             name     sex  \\\n",
       "0       1         1                    Allen, Miss. Elisabeth Walton  female   \n",
       "1       1         1                   Allison, Master. Hudson Trevor    male   \n",
       "2       1         0                     Allison, Miss. Helen Loraine  female   \n",
       "3       1         0             Allison, Mr. Hudson Joshua Creighton    male   \n",
       "4       1         0  Allison, Mrs. Hudson J C (Bessie Waldo Daniels)  female   \n",
       "\n",
       "       age  sibsp  parch  ticket      fare cabin embarked boat   body  \\\n",
       "0  29.0000      0      0   24160  211.3375    B5        S    2    NaN   \n",
       "1   0.9167      1      2  113781  151.5500   C22        S   11    NaN   \n",
       "2   2.0000      1      2  113781  151.5500   C22        S  NaN    NaN   \n",
       "3  30.0000      1      2  113781  151.5500   C22        S  NaN  135.0   \n",
       "4  25.0000      1      2  113781  151.5500   C22        S  NaN    NaN   \n",
       "\n",
       "                         home.dest  \n",
       "0                     St Louis, MO  \n",
       "1  Montreal, PQ / Chesterville, ON  \n",
       "2  Montreal, PQ / Chesterville, ON  \n",
       "3  Montreal, PQ / Chesterville, ON  \n",
       "4  Montreal, PQ / Chesterville, ON  "
      ]
     },
     "execution_count": 62,
     "metadata": {},
     "output_type": "execute_result"
    }
   ],
   "source": [
    "import pandas as pd\n",
    "import matplotlib.pyplot as plt\n",
    "import seaborn as sns\n",
    "data=pd.read_csv(\"titanic.csv\")\n",
    "data.head()"
   ]
  },
  {
   "cell_type": "code",
   "execution_count": 63,
   "id": "70661507",
   "metadata": {},
   "outputs": [
    {
     "data": {
      "text/plain": [
       "pclass          0\n",
       "survived        0\n",
       "name            0\n",
       "sex             0\n",
       "age           263\n",
       "sibsp           0\n",
       "parch           0\n",
       "ticket          0\n",
       "fare            1\n",
       "cabin        1014\n",
       "embarked        2\n",
       "boat          823\n",
       "body         1188\n",
       "home.dest     564\n",
       "dtype: int64"
      ]
     },
     "execution_count": 63,
     "metadata": {},
     "output_type": "execute_result"
    }
   ],
   "source": [
    "data.isnull().sum()"
   ]
  },
  {
   "cell_type": "code",
   "execution_count": 64,
   "id": "17055cdb",
   "metadata": {},
   "outputs": [
    {
     "data": {
      "text/plain": [
       "cabin_null\n",
       "1    1014\n",
       "0     295\n",
       "Name: count, dtype: int64"
      ]
     },
     "execution_count": 64,
     "metadata": {},
     "output_type": "execute_result"
    }
   ],
   "source": [
    "data[\"cabin_null\"]=np.where(data[\"cabin\"].isnull(),1,0)\n",
    "\n",
    "data[\"cabin_null\"].value_counts()"
   ]
  },
  {
   "cell_type": "code",
   "execution_count": 65,
   "id": "8034603c",
   "metadata": {},
   "outputs": [
    {
     "data": {
      "text/plain": [
       "survived\n",
       "0    0.873918\n",
       "1    0.614000\n",
       "Name: cabin_null, dtype: float64"
      ]
     },
     "execution_count": 65,
     "metadata": {},
     "output_type": "execute_result"
    }
   ],
   "source": [
    "data.groupby(['survived'])['cabin_null'].mean()"
   ]
  },
  {
   "cell_type": "code",
   "execution_count": null,
   "id": "058aa110",
   "metadata": {},
   "outputs": [],
   "source": []
  },
  {
   "cell_type": "markdown",
   "id": "0b54c647",
   "metadata": {},
   "source": [
    "### simple way"
   ]
  },
  {
   "cell_type": "code",
   "execution_count": 66,
   "id": "b1e9f23e",
   "metadata": {
    "scrolled": true
   },
   "outputs": [
    {
     "data": {
      "text/plain": [
       "survived\n",
       "0    0.873918\n",
       "1    0.614000\n",
       "Name: cabin, dtype: float64"
      ]
     },
     "execution_count": 66,
     "metadata": {},
     "output_type": "execute_result"
    }
   ],
   "source": [
    "data['cabin'].isnull().groupby(data[\"survived\"]).mean()"
   ]
  },
  {
   "cell_type": "code",
   "execution_count": 67,
   "id": "e09fcff6",
   "metadata": {},
   "outputs": [
    {
     "data": {
      "text/plain": [
       "survived\n",
       "0    0.234858\n",
       "1    0.146000\n",
       "Name: age, dtype: float64"
      ]
     },
     "execution_count": 67,
     "metadata": {},
     "output_type": "execute_result"
    }
   ],
   "source": [
    "data['age'].isnull().groupby(data[\"survived\"]).mean()"
   ]
  },
  {
   "cell_type": "code",
   "execution_count": 68,
   "id": "d2214491",
   "metadata": {},
   "outputs": [
    {
     "data": {
      "text/html": [
       "<div>\n",
       "<style scoped>\n",
       "    .dataframe tbody tr th:only-of-type {\n",
       "        vertical-align: middle;\n",
       "    }\n",
       "\n",
       "    .dataframe tbody tr th {\n",
       "        vertical-align: top;\n",
       "    }\n",
       "\n",
       "    .dataframe thead th {\n",
       "        text-align: right;\n",
       "    }\n",
       "</style>\n",
       "<table border=\"1\" class=\"dataframe\">\n",
       "  <thead>\n",
       "    <tr style=\"text-align: right;\">\n",
       "      <th></th>\n",
       "      <th>pclass</th>\n",
       "      <th>survived</th>\n",
       "      <th>name</th>\n",
       "      <th>sex</th>\n",
       "      <th>age</th>\n",
       "      <th>sibsp</th>\n",
       "      <th>parch</th>\n",
       "      <th>ticket</th>\n",
       "      <th>fare</th>\n",
       "      <th>cabin</th>\n",
       "      <th>embarked</th>\n",
       "      <th>boat</th>\n",
       "      <th>body</th>\n",
       "      <th>home.dest</th>\n",
       "      <th>cabin_null</th>\n",
       "    </tr>\n",
       "  </thead>\n",
       "  <tbody>\n",
       "    <tr>\n",
       "      <th>168</th>\n",
       "      <td>1</td>\n",
       "      <td>1</td>\n",
       "      <td>Icard, Miss. Amelie</td>\n",
       "      <td>female</td>\n",
       "      <td>38.0</td>\n",
       "      <td>0</td>\n",
       "      <td>0</td>\n",
       "      <td>113572</td>\n",
       "      <td>80.0</td>\n",
       "      <td>B28</td>\n",
       "      <td>NaN</td>\n",
       "      <td>6</td>\n",
       "      <td>NaN</td>\n",
       "      <td>NaN</td>\n",
       "      <td>0</td>\n",
       "    </tr>\n",
       "    <tr>\n",
       "      <th>284</th>\n",
       "      <td>1</td>\n",
       "      <td>1</td>\n",
       "      <td>Stone, Mrs. George Nelson (Martha Evelyn)</td>\n",
       "      <td>female</td>\n",
       "      <td>62.0</td>\n",
       "      <td>0</td>\n",
       "      <td>0</td>\n",
       "      <td>113572</td>\n",
       "      <td>80.0</td>\n",
       "      <td>B28</td>\n",
       "      <td>NaN</td>\n",
       "      <td>6</td>\n",
       "      <td>NaN</td>\n",
       "      <td>Cincinatti, OH</td>\n",
       "      <td>0</td>\n",
       "    </tr>\n",
       "  </tbody>\n",
       "</table>\n",
       "</div>"
      ],
      "text/plain": [
       "     pclass  survived                                       name     sex  \\\n",
       "168       1         1                        Icard, Miss. Amelie  female   \n",
       "284       1         1  Stone, Mrs. George Nelson (Martha Evelyn)  female   \n",
       "\n",
       "      age  sibsp  parch  ticket  fare cabin embarked boat  body  \\\n",
       "168  38.0      0      0  113572  80.0   B28      NaN    6   NaN   \n",
       "284  62.0      0      0  113572  80.0   B28      NaN    6   NaN   \n",
       "\n",
       "          home.dest  cabin_null  \n",
       "168             NaN           0  \n",
       "284  Cincinatti, OH           0  "
      ]
     },
     "execution_count": 68,
     "metadata": {},
     "output_type": "execute_result"
    }
   ],
   "source": [
    "data[data[\"embarked\"].isnull()]"
   ]
  },
  {
   "cell_type": "code",
   "execution_count": 69,
   "id": "5c23b31c",
   "metadata": {},
   "outputs": [
    {
     "data": {
      "text/html": [
       "<div>\n",
       "<style scoped>\n",
       "    .dataframe tbody tr th:only-of-type {\n",
       "        vertical-align: middle;\n",
       "    }\n",
       "\n",
       "    .dataframe tbody tr th {\n",
       "        vertical-align: top;\n",
       "    }\n",
       "\n",
       "    .dataframe thead th {\n",
       "        text-align: right;\n",
       "    }\n",
       "</style>\n",
       "<table border=\"1\" class=\"dataframe\">\n",
       "  <thead>\n",
       "    <tr style=\"text-align: right;\">\n",
       "      <th></th>\n",
       "      <th>customer_id</th>\n",
       "      <th>disbursed_amount</th>\n",
       "      <th>interest</th>\n",
       "      <th>market</th>\n",
       "      <th>employment</th>\n",
       "      <th>time_employed</th>\n",
       "      <th>householder</th>\n",
       "      <th>income</th>\n",
       "      <th>date_issued</th>\n",
       "      <th>target</th>\n",
       "      <th>loan_purpose</th>\n",
       "      <th>number_open_accounts</th>\n",
       "      <th>date_last_payment</th>\n",
       "      <th>number_credit_lines_12</th>\n",
       "    </tr>\n",
       "  </thead>\n",
       "  <tbody>\n",
       "    <tr>\n",
       "      <th>0</th>\n",
       "      <td>0</td>\n",
       "      <td>23201.5</td>\n",
       "      <td>15.4840</td>\n",
       "      <td>C</td>\n",
       "      <td>Teacher</td>\n",
       "      <td>&lt;=5 years</td>\n",
       "      <td>RENT</td>\n",
       "      <td>84600.0</td>\n",
       "      <td>2013-06-11</td>\n",
       "      <td>0</td>\n",
       "      <td>Debt consolidation</td>\n",
       "      <td>4.0</td>\n",
       "      <td>2016-01-14</td>\n",
       "      <td>NaN</td>\n",
       "    </tr>\n",
       "    <tr>\n",
       "      <th>1</th>\n",
       "      <td>1</td>\n",
       "      <td>7425.0</td>\n",
       "      <td>11.2032</td>\n",
       "      <td>B</td>\n",
       "      <td>Accountant</td>\n",
       "      <td>&lt;=5 years</td>\n",
       "      <td>OWNER</td>\n",
       "      <td>102000.0</td>\n",
       "      <td>2014-05-08</td>\n",
       "      <td>0</td>\n",
       "      <td>Car purchase</td>\n",
       "      <td>13.0</td>\n",
       "      <td>2016-01-25</td>\n",
       "      <td>NaN</td>\n",
       "    </tr>\n",
       "    <tr>\n",
       "      <th>2</th>\n",
       "      <td>2</td>\n",
       "      <td>11150.0</td>\n",
       "      <td>8.5100</td>\n",
       "      <td>A</td>\n",
       "      <td>Statistician</td>\n",
       "      <td>&lt;=5 years</td>\n",
       "      <td>RENT</td>\n",
       "      <td>69840.0</td>\n",
       "      <td>2013-10-26</td>\n",
       "      <td>0</td>\n",
       "      <td>Debt consolidation</td>\n",
       "      <td>8.0</td>\n",
       "      <td>2014-09-26</td>\n",
       "      <td>NaN</td>\n",
       "    </tr>\n",
       "    <tr>\n",
       "      <th>3</th>\n",
       "      <td>3</td>\n",
       "      <td>7600.0</td>\n",
       "      <td>5.8656</td>\n",
       "      <td>A</td>\n",
       "      <td>Other</td>\n",
       "      <td>&lt;=5 years</td>\n",
       "      <td>RENT</td>\n",
       "      <td>100386.0</td>\n",
       "      <td>2015-08-20</td>\n",
       "      <td>0</td>\n",
       "      <td>Debt consolidation</td>\n",
       "      <td>20.0</td>\n",
       "      <td>2016-01-26</td>\n",
       "      <td>NaN</td>\n",
       "    </tr>\n",
       "    <tr>\n",
       "      <th>4</th>\n",
       "      <td>4</td>\n",
       "      <td>31960.0</td>\n",
       "      <td>18.7392</td>\n",
       "      <td>E</td>\n",
       "      <td>Bus driver</td>\n",
       "      <td>&gt;5 years</td>\n",
       "      <td>RENT</td>\n",
       "      <td>95040.0</td>\n",
       "      <td>2014-07-22</td>\n",
       "      <td>0</td>\n",
       "      <td>Debt consolidation</td>\n",
       "      <td>14.0</td>\n",
       "      <td>2016-01-11</td>\n",
       "      <td>NaN</td>\n",
       "    </tr>\n",
       "  </tbody>\n",
       "</table>\n",
       "</div>"
      ],
      "text/plain": [
       "   customer_id  disbursed_amount  interest market    employment time_employed  \\\n",
       "0            0           23201.5   15.4840      C       Teacher     <=5 years   \n",
       "1            1            7425.0   11.2032      B    Accountant     <=5 years   \n",
       "2            2           11150.0    8.5100      A  Statistician     <=5 years   \n",
       "3            3            7600.0    5.8656      A         Other     <=5 years   \n",
       "4            4           31960.0   18.7392      E    Bus driver      >5 years   \n",
       "\n",
       "  householder    income date_issued  target        loan_purpose  \\\n",
       "0        RENT   84600.0  2013-06-11       0  Debt consolidation   \n",
       "1       OWNER  102000.0  2014-05-08       0        Car purchase   \n",
       "2        RENT   69840.0  2013-10-26       0  Debt consolidation   \n",
       "3        RENT  100386.0  2015-08-20       0  Debt consolidation   \n",
       "4        RENT   95040.0  2014-07-22       0  Debt consolidation   \n",
       "\n",
       "   number_open_accounts date_last_payment  number_credit_lines_12  \n",
       "0                   4.0        2016-01-14                     NaN  \n",
       "1                  13.0        2016-01-25                     NaN  \n",
       "2                   8.0        2014-09-26                     NaN  \n",
       "3                  20.0        2016-01-26                     NaN  \n",
       "4                  14.0        2016-01-11                     NaN  "
      ]
     },
     "execution_count": 69,
     "metadata": {},
     "output_type": "execute_result"
    }
   ],
   "source": [
    "data=pd.read_csv(\"loan.csv\")\n",
    "data.head()"
   ]
  },
  {
   "cell_type": "code",
   "execution_count": 70,
   "id": "04dc3ced",
   "metadata": {},
   "outputs": [],
   "source": [
    "data=data[[\"employment\",\"time_employed\"]]"
   ]
  },
  {
   "cell_type": "code",
   "execution_count": 71,
   "id": "f15650aa",
   "metadata": {},
   "outputs": [
    {
     "data": {
      "text/plain": [
       "employment       0.0611\n",
       "time_employed    0.0529\n",
       "dtype: float64"
      ]
     },
     "execution_count": 71,
     "metadata": {},
     "output_type": "execute_result"
    }
   ],
   "source": [
    "data.isnull().mean()"
   ]
  },
  {
   "cell_type": "code",
   "execution_count": 78,
   "id": "574225a2",
   "metadata": {},
   "outputs": [
    {
     "data": {
      "text/plain": [
       "12"
      ]
     },
     "execution_count": 78,
     "metadata": {},
     "output_type": "execute_result"
    }
   ],
   "source": [
    "len(data[\"employment\"].unique())"
   ]
  },
  {
   "cell_type": "code",
   "execution_count": 79,
   "id": "37cbc9f7",
   "metadata": {},
   "outputs": [
    {
     "data": {
      "text/plain": [
       "array(['Teacher', 'Accountant', 'Statistician', 'Other', 'Bus driver',\n",
       "       'Secretary', 'Software developer', 'Nurse', 'Taxi driver', nan,\n",
       "       'Civil Servant', 'Dentist'], dtype=object)"
      ]
     },
     "execution_count": 79,
     "metadata": {},
     "output_type": "execute_result"
    }
   ],
   "source": [
    "data[\"employment\"].unique()"
   ]
  },
  {
   "cell_type": "code",
   "execution_count": null,
   "id": "cf42f44e",
   "metadata": {},
   "outputs": [],
   "source": []
  }
 ],
 "metadata": {
  "kernelspec": {
   "display_name": "Python 3 (ipykernel)",
   "language": "python",
   "name": "python3"
  },
  "language_info": {
   "codemirror_mode": {
    "name": "ipython",
    "version": 3
   },
   "file_extension": ".py",
   "mimetype": "text/x-python",
   "name": "python",
   "nbconvert_exporter": "python",
   "pygments_lexer": "ipython3",
   "version": "3.11.5"
  }
 },
 "nbformat": 4,
 "nbformat_minor": 5
}
