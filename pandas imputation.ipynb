{
 "cells": [
  {
   "cell_type": "code",
   "execution_count": null,
   "id": "e104be85",
   "metadata": {},
   "outputs": [],
   "source": [
    "import numpy as np\n",
    "import pandas as pd\n",
    "import matplotlib.pyplot as plt\n",
    "import seaborn as sns\n",
    "data=pd.read_csv(\"train.csv\")"
   ]
  },
  {
   "cell_type": "code",
   "execution_count": null,
   "id": "3aefb366",
   "metadata": {},
   "outputs": [],
   "source": [
    "data"
   ]
  },
  {
   "cell_type": "code",
   "execution_count": null,
   "id": "885cfc98",
   "metadata": {},
   "outputs": [],
   "source": [
    "null_var=[i for i in data.columns if data[i].isnull().sum()>0]"
   ]
  },
  {
   "cell_type": "code",
   "execution_count": null,
   "id": "bbd67a78",
   "metadata": {},
   "outputs": [],
   "source": [
    "null_var"
   ]
  },
  {
   "cell_type": "code",
   "execution_count": null,
   "id": "d9384026",
   "metadata": {},
   "outputs": [],
   "source": [
    "cat_var=data.select_dtypes(include=['int'])"
   ]
  },
  {
   "cell_type": "code",
   "execution_count": null,
   "id": "689b7844",
   "metadata": {},
   "outputs": [],
   "source": [
    "cat_var"
   ]
  },
  {
   "cell_type": "code",
   "execution_count": null,
   "id": "20e3dbae",
   "metadata": {},
   "outputs": [],
   "source": [
    "cols_to_use = [\n",
    "    \"OverallQual\",\n",
    "    \"TotalBsmtSF\",\n",
    "    \"1stFlrSF\",\n",
    "    \"GrLivArea\",\n",
    "    \"WoodDeckSF\",\n",
    "    \"BsmtUnfSF\",\n",
    "    \"LotFrontage\",\n",
    "    \"MasVnrArea\",\n",
    "    \"GarageYrBlt\",\n",
    "    \"SalePrice\",\n",
    "]"
   ]
  },
  {
   "cell_type": "code",
   "execution_count": null,
   "id": "d85574f8",
   "metadata": {},
   "outputs": [],
   "source": [
    "data=pd.read_csv(\"train.csv\",usecols=cols_to_use)"
   ]
  },
  {
   "cell_type": "code",
   "execution_count": null,
   "id": "afc93ab5",
   "metadata": {},
   "outputs": [],
   "source": [
    "data"
   ]
  },
  {
   "cell_type": "code",
   "execution_count": 438,
   "id": "c490e302",
   "metadata": {},
   "outputs": [],
   "source": [
    "## mean/median imputation"
   ]
  },
  {
   "cell_type": "code",
   "execution_count": null,
   "id": "04af95ec",
   "metadata": {},
   "outputs": [],
   "source": [
    "from sklearn.model_selection import train_test_split\n",
    "xtrain,xtest,ytrain,ytest=train_test_split(data.drop(\"SalePrice\",axis=1),data[\"SalePrice\"],test_size=0.2,random_state=0)"
   ]
  },
  {
   "cell_type": "code",
   "execution_count": null,
   "id": "e6a0b4b8",
   "metadata": {},
   "outputs": [],
   "source": [
    "xtrain.shape"
   ]
  },
  {
   "cell_type": "code",
   "execution_count": null,
   "id": "0866a997",
   "metadata": {},
   "outputs": [],
   "source": [
    "xtest.shape"
   ]
  },
  {
   "cell_type": "code",
   "execution_count": null,
   "id": "9f7cca25",
   "metadata": {},
   "outputs": [],
   "source": [
    "xtrain.isnull().sum()"
   ]
  },
  {
   "cell_type": "code",
   "execution_count": null,
   "id": "e28bec6f",
   "metadata": {},
   "outputs": [],
   "source": [
    "vars_to_impute=[i for i in data.columns if data[i].isnull().sum()>0]"
   ]
  },
  {
   "cell_type": "code",
   "execution_count": null,
   "id": "9c646ea6",
   "metadata": {},
   "outputs": [],
   "source": [
    "vars_to_impute"
   ]
  },
  {
   "cell_type": "code",
   "execution_count": null,
   "id": "84637ea8",
   "metadata": {},
   "outputs": [],
   "source": [
    "pd.DataFrame(data=data,columns=vars_to_impute).hist()"
   ]
  },
  {
   "cell_type": "code",
   "execution_count": null,
   "id": "684b2d99",
   "metadata": {},
   "outputs": [],
   "source": [
    "imputation=xtrain[vars_to_impute].median().to_dict()"
   ]
  },
  {
   "cell_type": "code",
   "execution_count": null,
   "id": "ce41674d",
   "metadata": {},
   "outputs": [],
   "source": [
    "xtrain.fillna(imputation,inplace=True)\n",
    "xtest.fillna(imputation,inplace=True)"
   ]
  },
  {
   "cell_type": "code",
   "execution_count": null,
   "id": "5d6171dd",
   "metadata": {},
   "outputs": [],
   "source": [
    "xtrain.isnull().sum()"
   ]
  },
  {
   "cell_type": "code",
   "execution_count": null,
   "id": "5c2c9c5c",
   "metadata": {},
   "outputs": [],
   "source": [
    "xtest.isnull().sum()"
   ]
  },
  {
   "cell_type": "markdown",
   "id": "8161cfaf",
   "metadata": {},
   "source": [
    "## arbitrary imputation"
   ]
  },
  {
   "cell_type": "code",
   "execution_count": null,
   "id": "28fa7d06",
   "metadata": {},
   "outputs": [],
   "source": [
    "\n",
    "\n",
    "xtrain[vars_to_impute].agg([\"min\",\"max\"])"
   ]
  },
  {
   "cell_type": "code",
   "execution_count": null,
   "id": "12531bd3",
   "metadata": {},
   "outputs": [],
   "source": [
    "arbitrary={\"LotFrontage\":999,\"MasVnrArea\":1999,\"GarageYrBlt\":2999}"
   ]
  },
  {
   "cell_type": "code",
   "execution_count": null,
   "id": "fa010041",
   "metadata": {},
   "outputs": [],
   "source": [
    "xtrain.fillna(arbitrary,inplace=True)\n",
    "xtest.fillna(arbitrary,inplace=True)"
   ]
  },
  {
   "cell_type": "code",
   "execution_count": null,
   "id": "8c6a37ea",
   "metadata": {},
   "outputs": [],
   "source": [
    "xtrain.isnull().sum()"
   ]
  },
  {
   "cell_type": "code",
   "execution_count": null,
   "id": "48b3f485",
   "metadata": {},
   "outputs": [],
   "source": [
    "xtest.isnull().sum()"
   ]
  },
  {
   "cell_type": "markdown",
   "id": "edb9c2f9",
   "metadata": {},
   "source": [
    "## frequent category imputation"
   ]
  },
  {
   "cell_type": "code",
   "execution_count": null,
   "id": "81ce8cde",
   "metadata": {},
   "outputs": [],
   "source": [
    "data=pd.read_csv(\"train.csv\",usecols=[\"BsmtQual\",\"FireplaceQu\",\"SalePrice\"])"
   ]
  },
  {
   "cell_type": "code",
   "execution_count": null,
   "id": "25e06004",
   "metadata": {},
   "outputs": [],
   "source": [
    "# data1=data.select_dtypes(include=[\"category\",\"object\"])"
   ]
  },
  {
   "cell_type": "code",
   "execution_count": null,
   "id": "4965df8d",
   "metadata": {},
   "outputs": [],
   "source": [
    "# data1.isnull().sum()"
   ]
  },
  {
   "cell_type": "code",
   "execution_count": null,
   "id": "68343992",
   "metadata": {},
   "outputs": [],
   "source": [
    "data"
   ]
  },
  {
   "cell_type": "code",
   "execution_count": null,
   "id": "baa6ad99",
   "metadata": {},
   "outputs": [],
   "source": [
    "xtrain,xtest,ytrain,ytest=train_test_split(data.drop(\"SalePrice\",axis=1),data[\"SalePrice\"],test_size=0.2,random_state=0)"
   ]
  },
  {
   "cell_type": "code",
   "execution_count": null,
   "id": "d01f1411",
   "metadata": {},
   "outputs": [],
   "source": [
    "impute=xtrain[[\"BsmtQual\",\"FireplaceQu\"]].mode().iloc[0].to_dict()"
   ]
  },
  {
   "cell_type": "code",
   "execution_count": null,
   "id": "05a30ebd",
   "metadata": {},
   "outputs": [],
   "source": [
    "xtrain.fillna(impute,inplace=True)"
   ]
  },
  {
   "cell_type": "code",
   "execution_count": null,
   "id": "fa85de6c",
   "metadata": {},
   "outputs": [],
   "source": [
    "xtrain.isnull().sum()"
   ]
  },
  {
   "cell_type": "markdown",
   "id": "ed1a626c",
   "metadata": {},
   "source": [
    "## arbitrary string imputation"
   ]
  },
  {
   "cell_type": "code",
   "execution_count": null,
   "id": "5443bc33",
   "metadata": {},
   "outputs": [],
   "source": [
    "imputation_dict = {\n",
    "    \"BsmtQual\": \"Missing\",\n",
    "    \"FireplaceQu\": \"Missing\",\n",
    "}"
   ]
  },
  {
   "cell_type": "code",
   "execution_count": null,
   "id": "80851e05",
   "metadata": {},
   "outputs": [],
   "source": [
    "xtrain.fillna(imputation_dict, inplace=True)\n",
    "xtest.fillna(imputation_dict, inplace=True)"
   ]
  },
  {
   "cell_type": "markdown",
   "id": "7735546e",
   "metadata": {},
   "source": [
    "## missing indicators"
   ]
  },
  {
   "cell_type": "code",
   "execution_count": null,
   "id": "d21db182",
   "metadata": {},
   "outputs": [],
   "source": [
    "cols_to_use = [\n",
    "    \"OverallQual\",\n",
    "    \"TotalBsmtSF\",\n",
    "    \"1stFlrSF\",\n",
    "    \"GrLivArea\",\n",
    "    \"WoodDeckSF\",\n",
    "    \"BsmtUnfSF\",\n",
    "    \"LotFrontage\",\n",
    "    \"MasVnrArea\",\n",
    "    \"GarageYrBlt\",\n",
    "    \"BsmtQual\",\n",
    "    \"FireplaceQu\",\n",
    "    \"SalePrice\",\n",
    "]"
   ]
  },
  {
   "cell_type": "code",
   "execution_count": null,
   "id": "972eca6e",
   "metadata": {},
   "outputs": [],
   "source": [
    "data=pd.read_csv(\"train.csv\",usecols=cols_to_use)"
   ]
  },
  {
   "cell_type": "code",
   "execution_count": null,
   "id": "44ca9fbc",
   "metadata": {},
   "outputs": [],
   "source": [
    "xtrain,xtest,ytrain,ytest=train_test_split(data.drop(\"SalePrice\",axis=1),data[\"SalePrice\"],test_size=0.2,random_state=0)"
   ]
  },
  {
   "cell_type": "code",
   "execution_count": null,
   "id": "c752087b",
   "metadata": {},
   "outputs": [],
   "source": [
    "vars_num=list(xtrain.select_dtypes(include=\"number\").columns)"
   ]
  },
  {
   "cell_type": "code",
   "execution_count": null,
   "id": "57e5c14d",
   "metadata": {},
   "outputs": [],
   "source": [
    "vars_num"
   ]
  },
  {
   "cell_type": "code",
   "execution_count": null,
   "id": "ee978908",
   "metadata": {},
   "outputs": [],
   "source": [
    "vars_cat=list(xtrain.select_dtypes(exclude=\"number\").columns)"
   ]
  },
  {
   "cell_type": "code",
   "execution_count": null,
   "id": "7704c021",
   "metadata": {},
   "outputs": [],
   "source": [
    "vars_cat"
   ]
  },
  {
   "cell_type": "code",
   "execution_count": null,
   "id": "59615f97",
   "metadata": {},
   "outputs": [],
   "source": [
    "#median imputation for numeric\n",
    "imputation_dict=xtrain[vars_num].median().to_dict()"
   ]
  },
  {
   "cell_type": "code",
   "execution_count": null,
   "id": "370770cb",
   "metadata": {},
   "outputs": [],
   "source": [
    "imputation_dict.update(xtrain[vars_cat].mode().iloc[0].to_dict())"
   ]
  },
  {
   "cell_type": "code",
   "execution_count": null,
   "id": "bad4a4c4",
   "metadata": {},
   "outputs": [],
   "source": [
    "xtrain"
   ]
  },
  {
   "cell_type": "code",
   "execution_count": null,
   "id": "c8eff690",
   "metadata": {},
   "outputs": [],
   "source": [
    "xtrain.isna().astype(int)"
   ]
  },
  {
   "cell_type": "code",
   "execution_count": null,
   "id": "f8cb3c3b",
   "metadata": {},
   "outputs": [],
   "source": [
    "indicators=[f\"{var}_na\" for var in xtrain.columns]"
   ]
  },
  {
   "cell_type": "code",
   "execution_count": null,
   "id": "b7351ac4",
   "metadata": {},
   "outputs": [],
   "source": [
    "indicators\n"
   ]
  },
  {
   "cell_type": "code",
   "execution_count": null,
   "id": "9adcd8f6",
   "metadata": {},
   "outputs": [],
   "source": [
    "xtrain[indicators]=xtrain.isna().astype(int)"
   ]
  },
  {
   "cell_type": "code",
   "execution_count": null,
   "id": "6499bbda",
   "metadata": {},
   "outputs": [],
   "source": [
    "xtrain.head()"
   ]
  },
  {
   "cell_type": "code",
   "execution_count": null,
   "id": "a3cc7433",
   "metadata": {},
   "outputs": [],
   "source": [
    "xtrain.fillna(imputation_dict,inplace=True)"
   ]
  },
  {
   "cell_type": "code",
   "execution_count": null,
   "id": "7803a9a0",
   "metadata": {},
   "outputs": [],
   "source": [
    "xtrain.isnull().sum()"
   ]
  },
  {
   "cell_type": "code",
   "execution_count": null,
   "id": "f6ca7f0b",
   "metadata": {},
   "outputs": [],
   "source": []
  }
 ],
 "metadata": {
  "kernelspec": {
   "display_name": "Python 3 (ipykernel)",
   "language": "python",
   "name": "python3"
  },
  "language_info": {
   "codemirror_mode": {
    "name": "ipython",
    "version": 3
   },
   "file_extension": ".py",
   "mimetype": "text/x-python",
   "name": "python",
   "nbconvert_exporter": "python",
   "pygments_lexer": "ipython3",
   "version": "3.11.5"
  }
 },
 "nbformat": 4,
 "nbformat_minor": 5
}
